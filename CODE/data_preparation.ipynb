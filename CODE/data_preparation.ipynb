{
 "cells": [
  {
   "cell_type": "code",
   "execution_count": 1,
   "id": "95068343",
   "metadata": {},
   "outputs": [],
   "source": [
    "import pandas as pd\n",
    "import csv\n",
    "import os\n",
    "import shutil\n"
   ]
  },
  {
   "cell_type": "code",
   "execution_count": 2,
   "id": "3e7656ba",
   "metadata": {},
   "outputs": [
    {
     "data": {
      "text/html": [
       "<div>\n",
       "<style scoped>\n",
       "    .dataframe tbody tr th:only-of-type {\n",
       "        vertical-align: middle;\n",
       "    }\n",
       "\n",
       "    .dataframe tbody tr th {\n",
       "        vertical-align: top;\n",
       "    }\n",
       "\n",
       "    .dataframe thead th {\n",
       "        text-align: right;\n",
       "    }\n",
       "</style>\n",
       "<table border=\"1\" class=\"dataframe\">\n",
       "  <thead>\n",
       "    <tr style=\"text-align: right;\">\n",
       "      <th></th>\n",
       "      <th>Name</th>\n",
       "      <th>Severity</th>\n",
       "    </tr>\n",
       "  </thead>\n",
       "  <tbody>\n",
       "    <tr>\n",
       "      <th>0</th>\n",
       "      <td>9c853c25a1c53cfd2b31ad20df749265</td>\n",
       "      <td>MODERATE</td>\n",
       "    </tr>\n",
       "    <tr>\n",
       "      <th>1</th>\n",
       "      <td>5df973284e61359a86c3d5bf3cd5b0dd</td>\n",
       "      <td>MODERATE</td>\n",
       "    </tr>\n",
       "    <tr>\n",
       "      <th>2</th>\n",
       "      <td>af47db6c1b39cdb22e1a1561640bd85b</td>\n",
       "      <td>MILD</td>\n",
       "    </tr>\n",
       "    <tr>\n",
       "      <th>3</th>\n",
       "      <td>f5d2a9d9f91eac85727d270d0ba0d937</td>\n",
       "      <td>MODERATE</td>\n",
       "    </tr>\n",
       "    <tr>\n",
       "      <th>4</th>\n",
       "      <td>d31fcb7ee2eb12169dfdf609eac37fb3</td>\n",
       "      <td>MODERATE</td>\n",
       "    </tr>\n",
       "    <tr>\n",
       "      <th>...</th>\n",
       "      <td>...</td>\n",
       "      <td>...</td>\n",
       "    </tr>\n",
       "    <tr>\n",
       "      <th>421</th>\n",
       "      <td>331c1cd5d8bc1ef77ad39ae19c6634a4</td>\n",
       "      <td>MILD</td>\n",
       "    </tr>\n",
       "    <tr>\n",
       "      <th>422</th>\n",
       "      <td>61e3d47e250e211f193065103f41d8cd</td>\n",
       "      <td>MODERATE</td>\n",
       "    </tr>\n",
       "    <tr>\n",
       "      <th>423</th>\n",
       "      <td>05cb80ddfc72076a014e3040f5cce253</td>\n",
       "      <td>NORMAL-PCR+</td>\n",
       "    </tr>\n",
       "    <tr>\n",
       "      <th>424</th>\n",
       "      <td>1bdabc2d789b29263650e50fa6f7be0f</td>\n",
       "      <td>MODERATE</td>\n",
       "    </tr>\n",
       "    <tr>\n",
       "      <th>425</th>\n",
       "      <td>f31a680c1a7c4f9faac251c10f13ffd7</td>\n",
       "      <td>SEVERE</td>\n",
       "    </tr>\n",
       "  </tbody>\n",
       "</table>\n",
       "<p>426 rows × 2 columns</p>\n",
       "</div>"
      ],
      "text/plain": [
       "                                 Name     Severity\n",
       "0    9c853c25a1c53cfd2b31ad20df749265     MODERATE\n",
       "1    5df973284e61359a86c3d5bf3cd5b0dd     MODERATE\n",
       "2    af47db6c1b39cdb22e1a1561640bd85b         MILD\n",
       "3    f5d2a9d9f91eac85727d270d0ba0d937     MODERATE\n",
       "4    d31fcb7ee2eb12169dfdf609eac37fb3     MODERATE\n",
       "..                                ...          ...\n",
       "421  331c1cd5d8bc1ef77ad39ae19c6634a4         MILD\n",
       "422  61e3d47e250e211f193065103f41d8cd     MODERATE\n",
       "423  05cb80ddfc72076a014e3040f5cce253  NORMAL-PCR+\n",
       "424  1bdabc2d789b29263650e50fa6f7be0f     MODERATE\n",
       "425  f31a680c1a7c4f9faac251c10f13ffd7       SEVERE\n",
       "\n",
       "[426 rows x 2 columns]"
      ]
     },
     "execution_count": 2,
     "metadata": {},
     "output_type": "execute_result"
    }
   ],
   "source": [
    "data = pd.read_csv('severity.csv')\n",
    "data"
   ]
  },
  {
   "cell_type": "code",
   "execution_count": 3,
   "id": "6b79b166",
   "metadata": {},
   "outputs": [
    {
     "data": {
      "text/plain": [
       "MODERATE       171\n",
       "MILD           100\n",
       "SEVERE          79\n",
       "NORMAL-PCR+     76\n",
       "Name: Severity, dtype: int64"
      ]
     },
     "execution_count": 3,
     "metadata": {},
     "output_type": "execute_result"
    }
   ],
   "source": [
    "data['Severity'].value_counts()"
   ]
  },
  {
   "cell_type": "code",
   "execution_count": 4,
   "id": "8722b5a7",
   "metadata": {},
   "outputs": [],
   "source": [
    "os.mkdir('MODERATE')\n",
    "os.mkdir('MILD')\n",
    "os.mkdir('SEVERE')\n",
    "os.mkdir('NORMAL-PCR+')\n"
   ]
  },
  {
   "cell_type": "code",
   "execution_count": 5,
   "id": "f2609d66",
   "metadata": {},
   "outputs": [],
   "source": [
    "path = 'dataset/P/cropped/'"
   ]
  },
  {
   "cell_type": "code",
   "execution_count": 6,
   "id": "c002e6d5",
   "metadata": {},
   "outputs": [
    {
     "data": {
      "text/plain": [
       "423"
      ]
     },
     "execution_count": 6,
     "metadata": {},
     "output_type": "execute_result"
    }
   ],
   "source": [
    "len(os.listdir(path))"
   ]
  },
  {
   "cell_type": "code",
   "execution_count": 6,
   "id": "0dd9c01b",
   "metadata": {},
   "outputs": [
    {
     "data": {
      "text/plain": [
       "'C:\\\\Users\\\\Hari\\\\Mini Project'"
      ]
     },
     "execution_count": 6,
     "metadata": {},
     "output_type": "execute_result"
    }
   ],
   "source": [
    "os.getcwd()"
   ]
  },
  {
   "cell_type": "code",
   "execution_count": 7,
   "id": "e4936c7b",
   "metadata": {},
   "outputs": [],
   "source": [
    "cnt = 0\n",
    "for i,j in data.iterrows():\n",
    "    try:\n",
    "        \n",
    "        file = path+j['Name']+'_crop.jpg'\n",
    "        FILE = j['Severity'] + '/' + j['Name']+'.jpg'\n",
    "        shutil.copyfile(file, FILE)\n",
    "        cnt += 1\n",
    "    \n",
    "    except FileNotFoundError:\n",
    "        pass\n",
    "    except:\n",
    "        print(cnt)\n",
    "\n",
    "    "
   ]
  },
  {
   "cell_type": "code",
   "execution_count": 10,
   "id": "30966634",
   "metadata": {},
   "outputs": [
    {
     "name": "stdout",
     "output_type": "stream",
     "text": [
      "[name: \"/device:CPU:0\"\n",
      "device_type: \"CPU\"\n",
      "memory_limit: 268435456\n",
      "locality {\n",
      "}\n",
      "incarnation: 7986459053170614961\n",
      ", name: \"/device:GPU:0\"\n",
      "device_type: \"GPU\"\n",
      "memory_limit: 2247832372\n",
      "locality {\n",
      "  bus_id: 1\n",
      "  links {\n",
      "  }\n",
      "}\n",
      "incarnation: 13039963554730068888\n",
      "physical_device_desc: \"device: 0, name: NVIDIA GeForce GTX 1650, pci bus id: 0000:01:00.0, compute capability: 7.5\"\n",
      "]\n"
     ]
    }
   ],
   "source": [
    "from tensorflow.python.client import device_lib \n",
    "print(device_lib.list_local_devices())"
   ]
  },
  {
   "cell_type": "code",
   "execution_count": null,
   "id": "8dd9af1a",
   "metadata": {},
   "outputs": [],
   "source": []
  }
 ],
 "metadata": {
  "kernelspec": {
   "display_name": "Python 3 (ipykernel)",
   "language": "python",
   "name": "python3"
  },
  "language_info": {
   "codemirror_mode": {
    "name": "ipython",
    "version": 3
   },
   "file_extension": ".py",
   "mimetype": "text/x-python",
   "name": "python",
   "nbconvert_exporter": "python",
   "pygments_lexer": "ipython3",
   "version": "3.7.11"
  }
 },
 "nbformat": 4,
 "nbformat_minor": 5
}
